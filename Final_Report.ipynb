{
 "cells": [
  {
   "cell_type": "markdown",
   "id": "61d6863c",
   "metadata": {},
   "source": [
    "# Final Project - Final Report\n",
    "##### Name: Shane Staret  \n",
    "##### Class: CSCI 349 - Intro to Data Mining   \n",
    "##### Semester: 2021SP   \n",
    "##### Instructor: Brian King"
   ]
  },
  {
   "cell_type": "markdown",
   "id": "f95a4dd9",
   "metadata": {},
   "source": [
    "## **[FINAL PROJECT VIDEO](https://mediaspace.bucknell.edu/media/FinalProjectVideo.mov/1_lj3dctqq)**"
   ]
  },
  {
   "cell_type": "markdown",
   "id": "7ea1e680",
   "metadata": {},
   "source": [
    "### **Introduction**"
   ]
  },
  {
   "cell_type": "markdown",
   "id": "c867c272",
   "metadata": {},
   "source": [
    "The primary problem presented through this dataset is one involving the prediction of student performance in secondary school based on data gathered on several hundred students. With 32 input variables, this is a high-dimensional dataset. The idea is to predict which of these variables, if any, can help us predict how well a student may perform academically. This is arguably a very important problem to look into, as determining variables that contribute to student achievement or failure can influence methods currently used within schooling to help students succeed. It can also help to identify variables that may irrelevant, allowing those focused on increasing student achievement to ignore these variables and focus on the impactful ones."
   ]
  },
  {
   "cell_type": "markdown",
   "id": "6ff52aa1",
   "metadata": {},
   "source": [
    "### **Data**"
   ]
  },
  {
   "cell_type": "markdown",
   "id": "c58344eb",
   "metadata": {},
   "source": [
    "This dataset displays student achievement in secondary education of two Portuguese schools. The data was collected using school reports and questionnaires. There are 33 total data characteristics (1 being the target value, which is the final grade of each student). The data attributes include student grades, demographic, social and school related features. Two datasets are provided regarding the performance in two distinct subjects: Mathematics and Portuguese language. The two datasets were modeled under binary/five-level classification and regression tasks. The idea is to predict student performance based on the values of 32 attributes. This data is directly from the University of Minho and is hosted by the ICS School in the University of California, Irvine (UCI)."
   ]
  },
  {
   "cell_type": "code",
   "execution_count": 2,
   "id": "158c6a54",
   "metadata": {},
   "outputs": [],
   "source": [
    "import pandas as pd\n",
    "\n",
    "# reading in the dataset for the math course\n",
    "df_mat = pd.read_csv('data/student-mat.csv', delimiter=';')\n",
    "\n",
    "# reading in the dataset for the Portuguese course\n",
    "df_por = pd.read_csv('data/student-por.csv', delimiter=';')"
   ]
  },
  {
   "cell_type": "markdown",
   "id": "abe39d1c",
   "metadata": {},
   "source": [
    "The following is the first 3 indices in each of the original two datasets:"
   ]
  },
  {
   "cell_type": "code",
   "execution_count": 5,
   "id": "f4aa1f0d",
   "metadata": {},
   "outputs": [
    {
     "data": {
      "text/html": [
       "<div>\n",
       "<style scoped>\n",
       "    .dataframe tbody tr th:only-of-type {\n",
       "        vertical-align: middle;\n",
       "    }\n",
       "\n",
       "    .dataframe tbody tr th {\n",
       "        vertical-align: top;\n",
       "    }\n",
       "\n",
       "    .dataframe thead th {\n",
       "        text-align: right;\n",
       "    }\n",
       "</style>\n",
       "<table border=\"1\" class=\"dataframe\">\n",
       "  <thead>\n",
       "    <tr style=\"text-align: right;\">\n",
       "      <th></th>\n",
       "      <th>school</th>\n",
       "      <th>sex</th>\n",
       "      <th>age</th>\n",
       "      <th>address</th>\n",
       "      <th>famsize</th>\n",
       "      <th>Pstatus</th>\n",
       "      <th>Medu</th>\n",
       "      <th>Fedu</th>\n",
       "      <th>Mjob</th>\n",
       "      <th>Fjob</th>\n",
       "      <th>...</th>\n",
       "      <th>famrel</th>\n",
       "      <th>freetime</th>\n",
       "      <th>goout</th>\n",
       "      <th>Dalc</th>\n",
       "      <th>Walc</th>\n",
       "      <th>health</th>\n",
       "      <th>absences</th>\n",
       "      <th>G1</th>\n",
       "      <th>G2</th>\n",
       "      <th>G3</th>\n",
       "    </tr>\n",
       "  </thead>\n",
       "  <tbody>\n",
       "    <tr>\n",
       "      <th>0</th>\n",
       "      <td>GP</td>\n",
       "      <td>F</td>\n",
       "      <td>18</td>\n",
       "      <td>U</td>\n",
       "      <td>GT3</td>\n",
       "      <td>A</td>\n",
       "      <td>4</td>\n",
       "      <td>4</td>\n",
       "      <td>at_home</td>\n",
       "      <td>teacher</td>\n",
       "      <td>...</td>\n",
       "      <td>4</td>\n",
       "      <td>3</td>\n",
       "      <td>4</td>\n",
       "      <td>1</td>\n",
       "      <td>1</td>\n",
       "      <td>3</td>\n",
       "      <td>6</td>\n",
       "      <td>5</td>\n",
       "      <td>6</td>\n",
       "      <td>6</td>\n",
       "    </tr>\n",
       "    <tr>\n",
       "      <th>1</th>\n",
       "      <td>GP</td>\n",
       "      <td>F</td>\n",
       "      <td>17</td>\n",
       "      <td>U</td>\n",
       "      <td>GT3</td>\n",
       "      <td>T</td>\n",
       "      <td>1</td>\n",
       "      <td>1</td>\n",
       "      <td>at_home</td>\n",
       "      <td>other</td>\n",
       "      <td>...</td>\n",
       "      <td>5</td>\n",
       "      <td>3</td>\n",
       "      <td>3</td>\n",
       "      <td>1</td>\n",
       "      <td>1</td>\n",
       "      <td>3</td>\n",
       "      <td>4</td>\n",
       "      <td>5</td>\n",
       "      <td>5</td>\n",
       "      <td>6</td>\n",
       "    </tr>\n",
       "    <tr>\n",
       "      <th>2</th>\n",
       "      <td>GP</td>\n",
       "      <td>F</td>\n",
       "      <td>15</td>\n",
       "      <td>U</td>\n",
       "      <td>LE3</td>\n",
       "      <td>T</td>\n",
       "      <td>1</td>\n",
       "      <td>1</td>\n",
       "      <td>at_home</td>\n",
       "      <td>other</td>\n",
       "      <td>...</td>\n",
       "      <td>4</td>\n",
       "      <td>3</td>\n",
       "      <td>2</td>\n",
       "      <td>2</td>\n",
       "      <td>3</td>\n",
       "      <td>3</td>\n",
       "      <td>10</td>\n",
       "      <td>7</td>\n",
       "      <td>8</td>\n",
       "      <td>10</td>\n",
       "    </tr>\n",
       "  </tbody>\n",
       "</table>\n",
       "<p>3 rows × 33 columns</p>\n",
       "</div>"
      ],
      "text/plain": [
       "  school sex  age address famsize Pstatus  Medu  Fedu     Mjob     Fjob  ...  \\\n",
       "0     GP   F   18       U     GT3       A     4     4  at_home  teacher  ...   \n",
       "1     GP   F   17       U     GT3       T     1     1  at_home    other  ...   \n",
       "2     GP   F   15       U     LE3       T     1     1  at_home    other  ...   \n",
       "\n",
       "  famrel freetime  goout  Dalc  Walc health absences G1 G2  G3  \n",
       "0      4        3      4     1     1      3        6  5  6   6  \n",
       "1      5        3      3     1     1      3        4  5  5   6  \n",
       "2      4        3      2     2     3      3       10  7  8  10  \n",
       "\n",
       "[3 rows x 33 columns]"
      ]
     },
     "metadata": {},
     "output_type": "display_data"
    },
    {
     "data": {
      "text/html": [
       "<div>\n",
       "<style scoped>\n",
       "    .dataframe tbody tr th:only-of-type {\n",
       "        vertical-align: middle;\n",
       "    }\n",
       "\n",
       "    .dataframe tbody tr th {\n",
       "        vertical-align: top;\n",
       "    }\n",
       "\n",
       "    .dataframe thead th {\n",
       "        text-align: right;\n",
       "    }\n",
       "</style>\n",
       "<table border=\"1\" class=\"dataframe\">\n",
       "  <thead>\n",
       "    <tr style=\"text-align: right;\">\n",
       "      <th></th>\n",
       "      <th>school</th>\n",
       "      <th>sex</th>\n",
       "      <th>age</th>\n",
       "      <th>address</th>\n",
       "      <th>famsize</th>\n",
       "      <th>Pstatus</th>\n",
       "      <th>Medu</th>\n",
       "      <th>Fedu</th>\n",
       "      <th>Mjob</th>\n",
       "      <th>Fjob</th>\n",
       "      <th>...</th>\n",
       "      <th>famrel</th>\n",
       "      <th>freetime</th>\n",
       "      <th>goout</th>\n",
       "      <th>Dalc</th>\n",
       "      <th>Walc</th>\n",
       "      <th>health</th>\n",
       "      <th>absences</th>\n",
       "      <th>G1</th>\n",
       "      <th>G2</th>\n",
       "      <th>G3</th>\n",
       "    </tr>\n",
       "  </thead>\n",
       "  <tbody>\n",
       "    <tr>\n",
       "      <th>0</th>\n",
       "      <td>GP</td>\n",
       "      <td>F</td>\n",
       "      <td>18</td>\n",
       "      <td>U</td>\n",
       "      <td>GT3</td>\n",
       "      <td>A</td>\n",
       "      <td>4</td>\n",
       "      <td>4</td>\n",
       "      <td>at_home</td>\n",
       "      <td>teacher</td>\n",
       "      <td>...</td>\n",
       "      <td>4</td>\n",
       "      <td>3</td>\n",
       "      <td>4</td>\n",
       "      <td>1</td>\n",
       "      <td>1</td>\n",
       "      <td>3</td>\n",
       "      <td>4</td>\n",
       "      <td>0</td>\n",
       "      <td>11</td>\n",
       "      <td>11</td>\n",
       "    </tr>\n",
       "    <tr>\n",
       "      <th>1</th>\n",
       "      <td>GP</td>\n",
       "      <td>F</td>\n",
       "      <td>17</td>\n",
       "      <td>U</td>\n",
       "      <td>GT3</td>\n",
       "      <td>T</td>\n",
       "      <td>1</td>\n",
       "      <td>1</td>\n",
       "      <td>at_home</td>\n",
       "      <td>other</td>\n",
       "      <td>...</td>\n",
       "      <td>5</td>\n",
       "      <td>3</td>\n",
       "      <td>3</td>\n",
       "      <td>1</td>\n",
       "      <td>1</td>\n",
       "      <td>3</td>\n",
       "      <td>2</td>\n",
       "      <td>9</td>\n",
       "      <td>11</td>\n",
       "      <td>11</td>\n",
       "    </tr>\n",
       "    <tr>\n",
       "      <th>2</th>\n",
       "      <td>GP</td>\n",
       "      <td>F</td>\n",
       "      <td>15</td>\n",
       "      <td>U</td>\n",
       "      <td>LE3</td>\n",
       "      <td>T</td>\n",
       "      <td>1</td>\n",
       "      <td>1</td>\n",
       "      <td>at_home</td>\n",
       "      <td>other</td>\n",
       "      <td>...</td>\n",
       "      <td>4</td>\n",
       "      <td>3</td>\n",
       "      <td>2</td>\n",
       "      <td>2</td>\n",
       "      <td>3</td>\n",
       "      <td>3</td>\n",
       "      <td>6</td>\n",
       "      <td>12</td>\n",
       "      <td>13</td>\n",
       "      <td>12</td>\n",
       "    </tr>\n",
       "  </tbody>\n",
       "</table>\n",
       "<p>3 rows × 33 columns</p>\n",
       "</div>"
      ],
      "text/plain": [
       "  school sex  age address famsize Pstatus  Medu  Fedu     Mjob     Fjob  ...  \\\n",
       "0     GP   F   18       U     GT3       A     4     4  at_home  teacher  ...   \n",
       "1     GP   F   17       U     GT3       T     1     1  at_home    other  ...   \n",
       "2     GP   F   15       U     LE3       T     1     1  at_home    other  ...   \n",
       "\n",
       "  famrel freetime  goout  Dalc  Walc health absences  G1  G2  G3  \n",
       "0      4        3      4     1     1      3        4   0  11  11  \n",
       "1      5        3      3     1     1      3        2   9  11  11  \n",
       "2      4        3      2     2     3      3        6  12  13  12  \n",
       "\n",
       "[3 rows x 33 columns]"
      ]
     },
     "metadata": {},
     "output_type": "display_data"
    }
   ],
   "source": [
    "display(df_mat.head(3))\n",
    "display(df_por.head(3))"
   ]
  },
  {
   "cell_type": "markdown",
   "id": "8beca5f9",
   "metadata": {},
   "source": [
    "The following is the given explanation for each variable within both datasets:  \n",
    "1 school - student's school (binary: \"GP\" - Gabriel Pereira or \"MS\" - Mousinho da Silveira)  \n",
    "2 sex - student's sex (binary: \"F\" - female or \"M\" - male)  \n",
    "3 age - student's age (numeric: from 15 to 22)  \n",
    "4 address - student's home address type (binary: \"U\" - urban or \"R\" - rural)  \n",
    "5 famsize - family size (binary: \"LE3\" - less or equal to 3 or \"GT3\" - greater than 3)  \n",
    "6 Pstatus - parent's cohabitation status (binary: \"T\" - living together or \"A\" - apart)  \n",
    "7 Medu - mother's education (numeric: 0 - none,  1 - primary education (4th grade), 2 – 5th to 9th grade, 3 – secondary education or 4 – higher education)  \n",
    "8 Fedu - father's education (numeric: 0 - none,  1 - primary education (4th grade), 2 – 5th to 9th grade, 3 – secondary education or 4 – higher education)  \n",
    "9 Mjob - mother's job (nominal: \"teacher\", \"health\" care related, civil \"services\" (e.g. administrative or police), \"at_home\" or \"other\")  \n",
    "10 Fjob - father's job (nominal: \"teacher\", \"health\" care related, civil \"services\" (e.g. administrative or police), \"at_home\" or \"other\")  \n",
    "11 reason - reason to choose this school (nominal: close to \"home\", school \"reputation\", \"course\" preference or \"other\")  \n",
    "12 guardian - student's guardian (nominal: \"mother\", \"father\" or \"other\")  \n",
    "13 traveltime - home to school travel time (numeric: 1 - <15 min., 2 - 15 to 30 min., 3 - 30 min. to 1 hour, or 4 - >1 hour)  \n",
    "14 studytime - weekly study time (numeric: 1 - <2 hours, 2 - 2 to 5 hours, 3 - 5 to 10 hours, or 4 - >10 hours)  \n",
    "15 failures - number of past class failures (numeric: n if 1<=n<3, else 4)  \n",
    "16 schoolsup - extra educational support (binary: yes or no)  \n",
    "17 famsup - family educational support (binary: yes or no)  \n",
    "18 paid - extra paid classes within the course subject (Math or Portuguese) (binary: yes or no)  \n",
    "19 activities - extra-curricular activities (binary: yes or no)  \n",
    "20 nursery - attended nursery school (binary: yes or no)  \n",
    "21 higher - wants to take higher education (binary: yes or no)  \n",
    "22 internet - Internet access at home (binary: yes or no)  \n",
    "23 romantic - with a romantic relationship (binary: yes or no)  \n",
    "24 famrel - quality of family relationships (numeric: from 1 - very bad to 5 - excellent)  \n",
    "25 freetime - free time after school (numeric: from 1 - very low to 5 - very high)  \n",
    "26 goout - going out with friends (numeric: from 1 - very low to 5 - very high)  \n",
    "27 Dalc - workday alcohol consumption (numeric: from 1 - very low to 5 - very high)  \n",
    "28 Walc - weekend alcohol consumption (numeric: from 1 - very low to 5 - very high)  \n",
    "29 health - current health status (numeric: from 1 - very bad to 5 - very good)  \n",
    "30 absences - number of school absences (numeric: from 0 to 93)  \n",
    "  \n",
    "These grades are related with the course subject, Math or Portuguese:  \n",
    "31 G1 - first period grade (numeric: from 0 to 20)  \n",
    "31 G2 - second period grade (numeric: from 0 to 20)  \n",
    "32 G3 - final grade (numeric: from 0 to 20, **output target**)"
   ]
  },
  {
   "cell_type": "markdown",
   "id": "011bd93a",
   "metadata": {},
   "source": [
    "There is one [research paper](http://www3.dsi.uminho.pt/pcortez/student.pdf) that used this dataset to determine variables that are relevant to predicting student performance. They used regression DM methods, however, they also broke down this problem so that classification DM methods could also be applied. Scores range from 0 to 20, so they classified scores of 10 and below as being \"failures\" and 11 and above as being \"successes\". They were then able to apply certain classification methods (e.g. decision trees) to this problem as well. The methods used to evaluate the data in this paper included the use of a Decision Tree (DT), Random Forest (RF), Neural Network (NN), and Support Vector Machine (SVM). **The authors of this paper found that no meaningful predictions can be made UNLESS the first period grade and second period grade are factored in when predicting the final grade.**"
   ]
  },
  {
   "cell_type": "markdown",
   "id": "d70cf260",
   "metadata": {},
   "source": [
    "### **Data Preparation**"
   ]
  },
  {
   "cell_type": "code",
   "execution_count": 7,
   "id": "b5af2d99",
   "metadata": {},
   "outputs": [],
   "source": [
    "from sklearn import preprocessing\n",
    "\n",
    "# reassigning dtype for each attribute\n",
    "df_mat['school'] = pd.Categorical(df_mat['school'])\n",
    "df_por['school'] = pd.Categorical(df_por['school'])\n",
    "\n",
    "df_mat['sex'] = pd.Categorical(df_mat['sex'])\n",
    "df_por['sex'] = pd.Categorical(df_por['sex'])\n",
    "\n",
    "df_mat['age'] = pd.to_numeric(df_mat['age'], downcast='unsigned')\n",
    "df_por['age'] = pd.to_numeric(df_por['age'], downcast='unsigned')\n",
    "\n",
    "df_mat['address'] = pd.Categorical(df_mat['address'])\n",
    "df_por['address'] = pd.Categorical(df_por['address'])\n",
    "\n",
    "df_mat['famsize'] = pd.Categorical(df_mat['famsize'])\n",
    "df_por['famsize'] = pd.Categorical(df_por['famsize'])\n",
    "\n",
    "df_mat['Pstatus'] = pd.Categorical(df_mat['Pstatus'])\n",
    "df_por['Pstatus'] = pd.Categorical(df_por['Pstatus'])\n",
    "\n",
    "df_mat['Medu'] = pd.Categorical(df_mat['Medu']).as_ordered()\n",
    "df_por['Medu'] = pd.Categorical(df_por['Medu']).as_ordered()\n",
    "\n",
    "df_mat['Fedu'] = pd.Categorical(df_mat['Fedu']).as_ordered()\n",
    "df_por['Fedu'] = pd.Categorical(df_por['Fedu']).as_ordered()\n",
    "\n",
    "df_mat['Mjob'] = pd.Categorical(df_mat['Mjob'])\n",
    "df_por['Mjob'] = pd.Categorical(df_por['Mjob'])\n",
    "\n",
    "df_mat['Fjob'] = pd.Categorical(df_mat['Fjob'])\n",
    "df_por['Fjob'] = pd.Categorical(df_por['Fjob'])\n",
    "\n",
    "df_mat['reason'] = pd.Categorical(df_mat['reason'])\n",
    "df_por['reason'] = pd.Categorical(df_por['reason'])\n",
    "\n",
    "df_mat['guardian'] = pd.Categorical(df_mat['guardian'])\n",
    "df_por['guardian'] = pd.Categorical(df_por['guardian'])\n",
    "\n",
    "df_mat['traveltime'] = pd.Categorical(df_mat['traveltime']).as_ordered()\n",
    "df_por['traveltime'] = pd.Categorical(df_por['traveltime']).as_ordered()\n",
    "\n",
    "df_mat['studytime'] = pd.Categorical(df_mat['studytime']).as_ordered()\n",
    "df_por['studytime'] = pd.Categorical(df_por['studytime']).as_ordered()\n",
    "\n",
    "df_mat['failures'] = pd.Categorical(df_mat['failures']).as_ordered()\n",
    "df_por['failures'] = pd.Categorical(df_por['failures']).as_ordered()\n",
    "\n",
    "df_mat['schoolsup'] = pd.Categorical(df_mat['schoolsup'])\n",
    "df_por['schoolsup'] = pd.Categorical(df_por['schoolsup'])\n",
    "\n",
    "df_mat['famsup'] = pd.Categorical(df_mat['famsup'])\n",
    "df_por['famsup'] = pd.Categorical(df_por['famsup'])\n",
    "\n",
    "df_mat['paid'] = pd.Categorical(df_mat['paid'])\n",
    "df_por['paid'] = pd.Categorical(df_por['paid'])\n",
    "\n",
    "df_mat['activities'] = pd.Categorical(df_mat['activities'])\n",
    "df_por['activities'] = pd.Categorical(df_por['activities'])\n",
    "\n",
    "df_mat['nursery'] = pd.Categorical(df_mat['nursery'])\n",
    "df_por['nursery'] = pd.Categorical(df_por['nursery'])\n",
    "\n",
    "df_mat['higher'] = pd.Categorical(df_mat['higher'])\n",
    "df_por['higher'] = pd.Categorical(df_por['higher'])\n",
    "\n",
    "df_mat['internet'] = pd.Categorical(df_mat['internet'])\n",
    "df_por['internet'] = pd.Categorical(df_por['internet'])\n",
    "\n",
    "df_mat['romantic'] = pd.Categorical(df_mat['romantic'])\n",
    "df_por['romantic'] = pd.Categorical(df_por['romantic'])\n",
    "\n",
    "df_mat['famrel'] = pd.to_numeric(df_mat['famrel'], downcast='unsigned')\n",
    "df_por['famrel'] = pd.to_numeric(df_por['famrel'], downcast='unsigned')\n",
    "\n",
    "df_mat['freetime'] = pd.to_numeric(df_mat['freetime'], downcast='unsigned')\n",
    "df_por['freetime'] = pd.to_numeric(df_por['freetime'], downcast='unsigned')\n",
    "\n",
    "df_mat['goout'] = pd.to_numeric(df_mat['goout'], downcast='unsigned')\n",
    "df_por['goout'] = pd.to_numeric(df_por['goout'], downcast='unsigned')\n",
    "\n",
    "df_mat['Dalc'] = pd.to_numeric(df_mat['Dalc'], downcast='unsigned')\n",
    "df_por['Dalc'] = pd.to_numeric(df_por['Dalc'], downcast='unsigned')\n",
    "\n",
    "df_mat['Walc'] = pd.to_numeric(df_mat['Walc'], downcast='unsigned')\n",
    "df_por['Walc'] = pd.to_numeric(df_por['Walc'], downcast='unsigned')\n",
    "\n",
    "df_mat['health'] = pd.to_numeric(df_mat['health'], downcast='unsigned')\n",
    "df_por['health'] = pd.to_numeric(df_por['health'], downcast='unsigned')\n",
    "\n",
    "df_mat['absences'] = pd.to_numeric(df_mat['absences'], downcast='unsigned')\n",
    "df_por['absences'] = pd.to_numeric(df_por['absences'], downcast='unsigned')\n",
    "\n",
    "df_mat['G1'] = pd.to_numeric(df_mat['G1'], downcast='unsigned')\n",
    "df_por['G1'] = pd.to_numeric(df_por['G1'], downcast='unsigned')\n",
    "\n",
    "df_mat['G2'] = pd.to_numeric(df_mat['G2'], downcast='unsigned')\n",
    "df_por['G2'] = pd.to_numeric(df_por['G2'], downcast='unsigned')\n",
    "\n",
    "df_mat['G3'] = pd.to_numeric(df_mat['G3'], downcast='unsigned')\n",
    "df_por['G3'] = pd.to_numeric(df_por['G3'], downcast='unsigned')\n",
    "\n",
    "# adding column to each df to designate the course that the students are in\n",
    "df_mat['course'] = 'mat'\n",
    "df_mat['course'] = pd.Categorical(df_mat['course'])\n",
    "df_por['course'] = 'por'\n",
    "df_por['course'] = pd.Categorical(df_por['course'])\n",
    "\n",
    "# combine data frames\n",
    "df_com = pd.concat([df_mat, df_por], ignore_index=True)\n",
    "df_com['course'] = pd.Categorical(df_com['course'])\n",
    "\n",
    "# convert all categorical attributes in combined dataframe to numeric\n",
    "cat_columns = df_com.select_dtypes(['category']).columns\n",
    "df_com[cat_columns] = df_com[cat_columns].apply(lambda x: x.cat.codes)\n",
    "\n",
    "# standardizing all data (except for grade variables)\n",
    "min_max_scaler = preprocessing.MinMaxScaler()\n",
    "df_com.loc[:, (df_com.columns != 'G1') & (df_com.columns != 'G2') & (df_com.columns != 'G3')] = min_max_scaler.fit_transform(df_com.loc[:, (df_com.columns != 'G1') & (df_com.columns != 'G2') & (df_com.columns != 'G3')])\n",
    "\n",
    "# downcasting all data\n",
    "df_com = df_com.apply(pd.to_numeric, downcast='float')"
   ]
  },
  {
   "cell_type": "markdown",
   "id": "d4094d7c",
   "metadata": {},
   "source": [
    "**Explanation**: All nominal and binary data were initially converted to categorical data. All data that wasn't numerical was then converted to numerical so that regression models could be applied. To ensure that there was no bias when models were applied to the data, all of the data was standardized using the MinMaxScaler given in the sklearn library. All of the data was then combined so that both courses could be evaluated at once. Finally, all variables were downcasted to ensure that the dataset took up as little memory as possible."
   ]
  },
  {
   "cell_type": "markdown",
   "id": "dc7c6846",
   "metadata": {},
   "source": [
    "The following are some of the more relevant summary statistics inititally presented in DataPrep_EDA.ipynb:"
   ]
  },
  {
   "cell_type": "code",
   "execution_count": 200,
   "id": "0789d928",
   "metadata": {},
   "outputs": [
    {
     "data": {
      "image/png": "[encoded data removed]",
      "text/plain": [
       "<Figure size 432x288 with 1 Axes>"
      ]
     },
     "metadata": {
      "needs_background": "light"
     },
     "output_type": "display_data"
    }
   ],
   "source": [
    "# histplot of number of students in each course\n",
    "ax = sns.histplot(data=df_com, x=\"course\")\n",
    "ax.set_xlabel(\"Course\")\n",
    "ax.set_title(\"Count by Course\")\n",
    "plt.show()"
   ]
  },
  {
   "cell_type": "markdown",
   "id": "ede98809",
   "metadata": {},
   "source": [
    "The above histplot shows the number of students in the two courses demonstrated in this dataset. Clearly, there are more students in the Portuguese language course than the math course."
   ]
  },
  {
   "cell_type": "code",
   "execution_count": 201,
   "id": "0d109936",
   "metadata": {},
   "outputs": [
    {
     "data": {
      "image/png": "[encoded data removed]",
      "text/plain": [
       "<Figure size 432x288 with 1 Axes>"
      ]
     },
     "metadata": {
      "needs_background": "light"
     },
     "output_type": "display_data"
    }
   ],
   "source": [
    "# histplot of number of students in each school\n",
    "ax = sns.histplot(data=df_com, x=\"school\", hue=\"course\")\n",
    "ax.set_xlabel(\"School\")\n",
    "ax.set_title(\"Count by School\")\n",
    "plt.show()"
   ]
  },
  {
   "cell_type": "markdown",
   "id": "3eb6561f",
   "metadata": {},
   "source": [
    "The above histplot shows that there are a greater proportion of students in the Portuguese language course from the MS school than in the Math course. This plot also shows that there is a greater number of students from the GP school in both courses."
   ]
  },
  {
   "cell_type": "code",
   "execution_count": 219,
   "id": "ef250e61",
   "metadata": {},
   "outputs": [
    {
     "data": {
      "image/png": "[encoded data removed]",
      "text/plain": [
       "<Figure size 432x288 with 1 Axes>"
      ]
     },
     "metadata": {
      "needs_background": "light"
     },
     "output_type": "display_data"
    }
   ],
   "source": [
    "# histplot of number of students by number of past failures\n",
    "ax = sns.histplot(data=df_com, x=\"failures\", hue=\"course\")\n",
    "ax.set_xlabel(\"Number of Past Failures\")\n",
    "ax.set_title(\"Count by Number of Past Failures\")\n",
    "ax.xaxis.set_major_locator(ticker.MultipleLocator(1))\n",
    "ax.xaxis.set_major_formatter(ticker.ScalarFormatter())\n",
    "plt.show()"
   ]
  },
  {
   "cell_type": "markdown",
   "id": "0d37ced3",
   "metadata": {},
   "source": [
    "Clearly, the majority of students had no past class failures. Interestingly, it seems that the math and Portuguese language course had about the same number of students who failed 2 or 3 times in the past, indicating that there is a higher proportion of students in the math course who have failed 2 or 3 times compared to the proportion in the Portuguese language course."
   ]
  },
  {
   "cell_type": "code",
   "execution_count": 241,
   "id": "c4435a78",
   "metadata": {},
   "outputs": [
    {
     "data": {
      "image/png": "[encoded data removed]",
      "text/plain": [
       "<Figure size 432x288 with 1 Axes>"
      ]
     },
     "metadata": {
      "needs_background": "light"
     },
     "output_type": "display_data"
    }
   ],
   "source": [
    "# boxplot of students by number of absences by course\n",
    "ax = sns.boxplot(data=df_com, x=\"course\", y=\"absences\")\n",
    "ax.set_xlabel(\"Course\")\n",
    "ax.set_ylabel(\"# Absences\")\n",
    "ax.set_title(\"# Absences by Course Boxplot\")\n",
    "plt.show()"
   ]
  },
  {
   "cell_type": "markdown",
   "id": "ffb9c014",
   "metadata": {},
   "source": [
    "Interestingly, it appears that math students have a higher number of absences in general. Also, the students that have a very large number of absences (40 and above) only appear in the math course."
   ]
  },
  {
   "cell_type": "code",
   "execution_count": 242,
   "id": "392a10b5",
   "metadata": {},
   "outputs": [
    {
     "data": {
      "image/png": "[encoded data removed]",
      "text/plain": [
       "<Figure size 432x288 with 1 Axes>"
      ]
     },
     "metadata": {
      "needs_background": "light"
     },
     "output_type": "display_data"
    }
   ],
   "source": [
    "# boxplot of students by number of absences by school\n",
    "ax = sns.boxplot(data=df_com, x=\"school\", y=\"absences\")\n",
    "ax.set_xlabel(\"School\")\n",
    "ax.set_ylabel(\"# Absences\")\n",
    "ax.set_title(\"# Absences by School Boxplot\")\n",
    "plt.show()"
   ]
  },
  {
   "cell_type": "markdown",
   "id": "1d483e61",
   "metadata": {},
   "source": [
    "The above boxplot clearly shows that GP students generally have a larger number of absences compared to MS students. Also, students containing an extreme number of absences appear to all come from the GP school rather than the MS school."
   ]
  },
  {
   "cell_type": "code",
   "execution_count": 243,
   "id": "ff9345e7",
   "metadata": {},
   "outputs": [
    {
     "data": {
      "image/png": "[encoded data removed]",
      "text/plain": [
       "<Figure size 432x288 with 1 Axes>"
      ]
     },
     "metadata": {
      "needs_background": "light"
     },
     "output_type": "display_data"
    }
   ],
   "source": [
    "# boxplot of students by first period grade\n",
    "ax = sns.boxplot(data=df_com, x=\"course\", y=\"G1\")\n",
    "ax.set_xlabel(\"Course\")\n",
    "ax.set_ylabel(\"1st Period Grade\")\n",
    "ax.set_title(\"1st Period Grade by Course Boxplot\")\n",
    "plt.show()"
   ]
  },
  {
   "cell_type": "markdown",
   "id": "3e206902",
   "metadata": {},
   "source": [
    "Overall, it appears that the Portuguese language course saw a wider range of grades compared to the math course. Interestingly though, the majority of data for the language course appears to be tightly clustered together compared to the math course, there are just 5 outliers in the language course that make the range wider."
   ]
  },
  {
   "cell_type": "code",
   "execution_count": 244,
   "id": "0000f792",
   "metadata": {},
   "outputs": [
    {
     "data": {
      "image/png": "[encoded data removed]",
      "text/plain": [
       "<Figure size 432x288 with 1 Axes>"
      ]
     },
     "metadata": {
      "needs_background": "light"
     },
     "output_type": "display_data"
    }
   ],
   "source": [
    "# boxplot of students by second period grade\n",
    "ax = sns.boxplot(data=df_com, x=\"course\", y=\"G2\")\n",
    "ax.set_xlabel(\"Course\")\n",
    "ax.set_ylabel(\"2nd Period Grade\")\n",
    "ax.set_title(\"2nd Period Grade by Course Boxplot\")\n",
    "plt.show()"
   ]
  },
  {
   "cell_type": "markdown",
   "id": "62f888c2",
   "metadata": {},
   "source": [
    "This plot shows that the second period grade distributions were quite similar to the first period. Again, the Portuguese language course has more outliers, but an overall tighter grouping of scores compared to the math course."
   ]
  },
  {
   "cell_type": "code",
   "execution_count": 194,
   "id": "93eeb1f7",
   "metadata": {},
   "outputs": [
    {
     "data": {
      "image/png": "[encoded data removed]",
      "text/plain": [
       "<Figure size 432x288 with 1 Axes>"
      ]
     },
     "metadata": {
      "needs_background": "light"
     },
     "output_type": "display_data"
    }
   ],
   "source": [
    "# boxplot of students by final grade by course\n",
    "ax = sns.boxplot(data=df_com, x=\"course\", y=\"G3\")\n",
    "ax.set_xlabel(\"Course\")\n",
    "ax.set_ylabel(\"Final Grade\")\n",
    "ax.set_title(\"Final Grade by Course Boxplot\")\n",
    "plt.show()"
   ]
  },
  {
   "cell_type": "markdown",
   "id": "a1013288",
   "metadata": {},
   "source": [
    "Overall, it appears that the math course saw a wider range of grades compared to the Portuguese language course. Scores below 5 were not considered outliers for the math course, but they were for the Portuguese language course. The Portuguese language course also appears to have had a slightly higher median score compared to the math course and a tighter range of scores in general."
   ]
  },
  {
   "cell_type": "code",
   "execution_count": 195,
   "id": "c34281b9",
   "metadata": {},
   "outputs": [
    {
     "data": {
      "image/png": "[encoded data removed]",
      "text/plain": [
       "<Figure size 432x288 with 1 Axes>"
      ]
     },
     "metadata": {
      "needs_background": "light"
     },
     "output_type": "display_data"
    }
   ],
   "source": [
    "# boxplot of students by final grade by school\n",
    "ax = sns.boxplot(data=df_com, x=\"school\", y=\"G3\")\n",
    "ax.set_xlabel(\"School\")\n",
    "ax.set_ylabel(\"Final Grade\")\n",
    "ax.set_title(\"Final Grade by School Boxplot\")\n",
    "plt.show()"
   ]
  },
  {
   "cell_type": "markdown",
   "id": "ce2fac92",
   "metadata": {},
   "source": [
    "Overall, it appears that the GP school contained higher average scores than the MS school, though not very significantly. The MS school only contained one student that performed very poorly whereas the GP school contained two. Also, the MS school appeared to have a slightly tighter range of scores compared to the GP school."
   ]
  },
  {
   "cell_type": "code",
   "execution_count": 196,
   "id": "f0bc51d8",
   "metadata": {},
   "outputs": [
    {
     "data": {
      "image/png": "[encoded data removed]",
      "text/plain": [
       "<Figure size 432x288 with 1 Axes>"
      ]
     },
     "metadata": {
      "needs_background": "light"
     },
     "output_type": "display_data"
    }
   ],
   "source": [
    "# boxplot of students by final grade by school (with course as hue)\n",
    "ax = sns.boxplot(data=df_com, x=\"school\", y=\"G3\", hue=\"course\")\n",
    "ax.set_xlabel(\"School\")\n",
    "ax.set_ylabel(\"Final Grade\")\n",
    "ax.set_title(\"Final Grade by School Boxplot\")\n",
    "plt.show()"
   ]
  },
  {
   "cell_type": "markdown",
   "id": "ffde8550",
   "metadata": {},
   "source": [
    "It appears that in general, GP students performed better in both courses compared to MS students. However, while the average GP student may have done better than the average MS student, it appears that the GP school was more likely to have low performers than the MS school, as the bottom of the boxplot for the GP math course extends to 0, whereas the boxplot for the MS math course only extends to 5. Similarly, the GP school has 4 low performing outliers for the Portuguese language course, whereas the MS school only has 1."
   ]
  },
  {
   "cell_type": "markdown",
   "id": "c4e65b49",
   "metadata": {},
   "source": [
    "### **Model**"
   ]
  },
  {
   "cell_type": "markdown",
   "id": "59a67d2f",
   "metadata": {},
   "source": [
    "Interestingly, the multiple linear regression model performed best, particularly when first period and second period grades were considered when predicting final grades. Of course, a multiple linear regression model was not the only model used to evaluate the data. A Keras NN model utilizing Kfold validation was also used on the combined dataset. However, when not considering first or second period grades, this model actually produced a *negative* R2 score, indicating that the model had extremely poor performance. When this Keras model was used on the dataset including the first and second period grades, it improved, having a moderately positive R2 score, but it still performed quite worse than the multiple linear regression model.  \n",
    "  \n",
    "In the final version of the Keras model, 10-fold validation was applied, along with a batch size of 4, and 150 epochs for each fold. Having a very low batch size resulted in the highest accuracy and accuracy in general appeared to stagnate around 125 epochs. It is likely that a value for k greater than 10 could have been chosen given the amount of samples in the combined dataset (1044 total rows), however, 10 was chosen for runtime purposes. The adam optimizer was used and the relu activation function was used (only for the input perceptrons) in the final version as well. Also, for the output perceptrons, the softmax activation function was utilized because otherwise there were issues where the loss would climb to infinity as the epochs ran. Interestingly, the adam optimizer and the relu activation function were the initial choices and they appear to be the best for this model in terms of accuracy. The sigmoid activation function and the sgd optimizer were also attempted, but both seemingly contributed to lower accuracies, so relu and adam were the final choices. Also, the Keras model also contained a hidden layer with 10 nodes. Initially, 5 hidden nodes were included but 10 led to consistently higher accuracies while 15 appeared to have no effect. So having 10 hidden nodes was the final choice.  \n",
    "  \n",
    "Even with all of this experimenting, the Keras model *still* does not perform as well as the multiple linear regression model. I suspect I may have some issues with how I assembled this model, but I have exhaustedly tried to make this model work better than the multiple linear regression model with minimal success."
   ]
  },
  {
   "cell_type": "markdown",
   "id": "d5c96e92",
   "metadata": {},
   "source": [
    "### **Performance Results**"
   ]
  },
  {
   "cell_type": "markdown",
   "id": "f6089eed",
   "metadata": {},
   "source": [
    "**The following are the results for the multiple linear regression model NOT including the first and second period grades:**  \n",
    "Mean Absolute Error: 2.1597762  \n",
    "Mean Squared Error: 7.7431164  \n",
    "Root Mean Squared Error: 2.7826455  \n",
    "R2: 0.17523701152448756"
   ]
  },
  {
   "cell_type": "markdown",
   "id": "babc1985",
   "metadata": {},
   "source": [
    "**The following are the results for the multiple linear regression model including the first and second period grades:**  \n",
    "Mean Absolute Error: 0.8423875  \n",
    "Mean Squared Error: 1.5384248  \n",
    "Root Mean Squared Error: 1.2403326  \n",
    "R2: 0.8361336894879354"
   ]
  },
  {
   "cell_type": "markdown",
   "id": "54e8311d",
   "metadata": {},
   "source": [
    "**The following are the results for the Keras NN model NOT including the first and second period grades:**  \n",
    "Mean Absolute Error: 3.485632183908046  \n",
    "Mean Squared Error: 21.487547892720308  \n",
    "Root Mean Squared Error: 4.635466308012637  \n",
    "R2: -0.4399583876313877"
   ]
  },
  {
   "cell_type": "markdown",
   "id": "dfa8402f",
   "metadata": {},
   "source": [
    "**The following are the results for the Keras NN model including the first and second period grades:**  \n",
    "Mean Absolute Error: 2.2519157088122603  \n",
    "Mean Squared Error: 7.953065134099617  \n",
    "Root Mean Squared Error: 2.8201179291121172  \n",
    "R2: 0.4670363084516823"
   ]
  },
  {
   "cell_type": "markdown",
   "id": "6e45dae1",
   "metadata": {},
   "source": [
    "Clearly, the multiple linear regression model when including the first and second period grades performed the best, followed by the Keras NN model when including the first and second period grades. The multiple linear regression model when not including the first and second period grades performed rather poorly, with an R2 score close to 0. However, the Keras NN model when not including the first and second period grades performed extremely poorly, as the R2 score was actually negative."
   ]
  },
  {
   "cell_type": "markdown",
   "id": "dd6e0bfb",
   "metadata": {},
   "source": [
    "### **Discussion**"
   ]
  },
  {
   "cell_type": "markdown",
   "id": "4980c58b",
   "metadata": {},
   "source": [
    "Based on the multiple linear regression model (when not including the first or second period grades), it appears that sex, activities, traveltime, and Fjob are all very irrelevant input variables (since their coefficients are very close to 0). Interestingly, it appears that Medu, studytime, higher, famrel, the course taken, and the number of absences all contribute positively to the prediction of the final score. The most surprising variable there is absences, as I would assume that a higher number of abscences would not lead to a prediction of a higher final grade. Finally, it appears that failures and schoolsup have significant negative contributions to the prediction of final score. Increased number of failures in particular appears to be highly correlated with a low final grade.  \n",
    "  \n",
    "When the first and second period grades are looked at when using the multiple linear regression model, the variables that appear to have influence over the final grade prediction change. A high number of past failures can still be seen as contributing to a lower predicted final score. Weekday drinking also appears to negatively impact final grade prediction. Second period grades, absences, a good family relationship, and travel time also appear to contribute positively to final scores. This is interesting, as I would not have predicted that high absences or high travel time would positively impact the prediction of the final scores. The course being taken also appears to influence the grade achieved quite a bit. For the most part, no other variables are relevant.  \n",
    "  \n",
    "As far as data prepartion/cleaning goes, there were virtually no issues as their was no incomplete data and the variable values were fortunately organized intelligently, leading to the preparation of the dataset being a relatively trivial portion of this project. As stated in the above section, the modeling results were quite surprising, as I expected the Keras NN model to eventually perform better than the multiple linear regression model. However, this obviously was not the case. "
   ]
  },
  {
   "cell_type": "markdown",
   "id": "48ed28ad",
   "metadata": {},
   "source": [
    "### **Conclusions**"
   ]
  },
  {
   "cell_type": "markdown",
   "id": "4bda03a5",
   "metadata": {},
   "source": [
    "Overall, it appears that the conclusions in the research paper that evaluated this dataset are very similar to the conclusions of this project. Unless the first and second period grades are included, it is difficult to generate any meaningful predictions or a list of variables that are relevant/irrelevant to a student's final scores. In other words, previous student performance is the best predictor of future student importance. Of course, there are other variables that contribute negatively (previous failures, high weekday drinking, etc) and positively (good family relationship, school support, etc) but their influence appears to not be as great as the previous performance variables (G1 & G2).  \n",
    "\n",
    "While not many strong relationships could be generated between the input variables and student performance, many irrelevant variables were found. These results could be used to focus on specific variables that have appear to have relevant influence on student performance, while putting less emphasis on attributes that appear to not have much effect."
   ]
  },
  {
   "cell_type": "code",
   "execution_count": null,
   "id": "66b79f20",
   "metadata": {},
   "outputs": [],
   "source": []
  }
 ],
 "metadata": {
  "kernelspec": {
   "display_name": "Python 3",
   "language": "python",
   "name": "python3"
  },
  "language_info": {
   "codemirror_mode": {
    "name": "ipython",
    "version": 3
   },
   "file_extension": ".py",
   "mimetype": "text/x-python",
   "name": "python",
   "nbconvert_exporter": "python",
   "pygments_lexer": "ipython3",
   "version": "3.7.7"
  }
 },
 "nbformat": 4,
 "nbformat_minor": 5
}
